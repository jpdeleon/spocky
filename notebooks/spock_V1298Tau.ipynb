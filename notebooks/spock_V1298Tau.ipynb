{
 "cells": [
  {
   "cell_type": "markdown",
   "id": "ea838773",
   "metadata": {},
   "source": [
    "# Randomly sample around the solution ball"
   ]
  },
  {
   "cell_type": "code",
   "execution_count": 1,
   "id": "722e0a96",
   "metadata": {
    "scrolled": true
   },
   "outputs": [
    {
     "name": "stdout",
     "output_type": "stream",
     "text": [
      "[17:02:08] WARNING: /home/conda/feedstock_root/build_artifacts/xgboost-split_1662013816914/work/src/learner.cc:749: Found JSON model saved before XGBoost 1.6, please save the model using current version again. The support for old JSON model will be discontinued in XGBoost 2.3.\n"
     ]
    }
   ],
   "source": [
    "import rebound\n",
    "from spock import FeatureClassifier\n",
    "feature_model = FeatureClassifier()"
   ]
  },
  {
   "cell_type": "markdown",
   "id": "ab533490",
   "metadata": {},
   "source": [
    "Values from Suárez Mascareño + 2022"
   ]
  },
  {
   "cell_type": "code",
   "execution_count": 2,
   "id": "fda9ce81",
   "metadata": {},
   "outputs": [],
   "source": [
    "from scipy.stats import uniform, norm, truncnorm\n",
    "import astropy.units as u\n",
    "import numpy as np\n",
    "\n",
    "Mstar = 1.095 # + 0.049 - 0.047\n",
    "Nplanets = 4\n",
    "#b,c,d,e\n",
    "pers = [24.1399, 8.24892, 12.4058, 40.2]\n",
    "pers_err = [0.0015, 0.00083, 0.0018, 1.0]\n",
    "\n",
    "eccs = [0.134, 0.30, 0.20, 0.10]\n",
    "eccs_err = [0.075, np.nan, np.nan, 0.091]\n",
    "\n",
    "mps = [0.64, 0.24, 0.31, 1.16]\n",
    "mps_err = [0.19, np.nan, np.nan, 0.30]"
   ]
  },
  {
   "cell_type": "code",
   "execution_count": 3,
   "id": "c9f095a5",
   "metadata": {},
   "outputs": [],
   "source": [
    "def setup_sim(mps, pers, eccs):\n",
    "    assert len(mps)==len(pers)==len(eccs)==Nplanets\n",
    "    sim = rebound.Simulation()\n",
    "    sim.units = [\"msun\", \"m\", \"d\"]\n",
    "    sim.add(m=Mstar)\n",
    "    for i in range(Nplanets):\n",
    "        sim.add(m=mps[i], P=pers[i], e=eccs[i])\n",
    "    sim.move_to_com()\n",
    "    return sim"
   ]
  },
  {
   "cell_type": "code",
   "execution_count": 4,
   "id": "9a0a0724",
   "metadata": {},
   "outputs": [
    {
     "data": {
      "text/plain": [
       "<rebound.simulation.Simulation object at 0x7f010f6433b0, N=5, t=0.0>"
      ]
     },
     "execution_count": 4,
     "metadata": {},
     "output_type": "execute_result"
    }
   ],
   "source": [
    "setup_sim(mps,pers,eccs)"
   ]
  },
  {
   "cell_type": "markdown",
   "id": "8ed99cbd",
   "metadata": {},
   "source": [
    "vectorized samples"
   ]
  },
  {
   "cell_type": "code",
   "execution_count": 5,
   "id": "ea869308",
   "metadata": {},
   "outputs": [
    {
     "data": {
      "text/plain": [
       "array([[24.1397454 ,  8.24931753, 12.40472112, 41.32747337],\n",
       "       [24.14263098,  8.24855164, 12.40559675, 41.32019457],\n",
       "       [24.13993699,  8.24875098, 12.40351347, 39.45651098],\n",
       "       ...,\n",
       "       [24.14026191,  8.24741398, 12.40703423, 39.23449659],\n",
       "       [24.13985037,  8.24799718, 12.40750787, 39.76731333],\n",
       "       [24.14005971,  8.24838343, 12.4062002 , 40.54854811]])"
      ]
     },
     "execution_count": 5,
     "metadata": {},
     "output_type": "execute_result"
    }
   ],
   "source": [
    "Nsamples = 1_000\n",
    "pvec=[norm(loc=pers[i], scale=pers_err[i]).rvs(size=Nsamples) for i in range(Nplanets)]\n",
    "pvec=np.c_[pvec].T\n",
    "pvec"
   ]
  },
  {
   "cell_type": "raw",
   "id": "19d1add9",
   "metadata": {},
   "source": [
    "ith=0\n",
    "pvec[:,ith]"
   ]
  },
  {
   "cell_type": "code",
   "execution_count": 7,
   "id": "78e88c88",
   "metadata": {},
   "outputs": [
    {
     "data": {
      "text/plain": [
       "array([[0.15751041, 0.10653704, 0.02583765, 0.0979088 ],\n",
       "       [0.13375634, 0.2273373 , 0.0591978 , 0.14907379],\n",
       "       [0.04415909, 0.0268694 , 0.17506571, 0.08437386],\n",
       "       ...,\n",
       "       [0.06822686, 0.1961795 , 0.19703728, 0.07889747],\n",
       "       [0.22541157, 0.03308455, 0.01345135, 0.06540237],\n",
       "       [0.07039698, 0.10097023, 0.04438891, 0.01489131]])"
      ]
     },
     "execution_count": 7,
     "metadata": {},
     "output_type": "execute_result"
    }
   ],
   "source": [
    "evec=[]\n",
    "for i in range(Nplanets):\n",
    "    mu = eccs[i]\n",
    "    sigma = eccs_err[i]\n",
    "    if sigma is np.nan:\n",
    "        v=uniform(loc=0, scale=mu).rvs(size=Nsamples)\n",
    "    else:\n",
    "        lower = 0\n",
    "        upper = 1\n",
    "        a = (lower - mu) / sigma\n",
    "        b = (upper - mu) / sigma\n",
    "        v=truncnorm(a=a, b=b, loc=mu, scale=sigma).rvs(size=Nsamples)\n",
    "    evec.append(v)\n",
    "evec=np.c_[evec].T\n",
    "evec"
   ]
  },
  {
   "cell_type": "raw",
   "id": "380a474a",
   "metadata": {
    "scrolled": true
   },
   "source": [
    "evec[:,ith]"
   ]
  },
  {
   "cell_type": "code",
   "execution_count": 9,
   "id": "2ba62993",
   "metadata": {},
   "outputs": [
    {
     "data": {
      "text/plain": [
       "array([[6.15084952e-04, 1.41693608e-04, 1.91032577e-04, 1.20230756e-03],\n",
       "       [6.46365846e-04, 1.47831023e-04, 1.65451502e-04, 1.06076035e-03],\n",
       "       [8.87699509e-04, 1.83838971e-04, 2.88886044e-05, 1.38191211e-03],\n",
       "       ...,\n",
       "       [4.93931501e-04, 6.62494692e-05, 2.85221546e-04, 9.27606793e-04],\n",
       "       [7.05713469e-04, 3.49138025e-06, 1.40630916e-04, 1.04515193e-03],\n",
       "       [9.54244771e-04, 8.55636917e-05, 2.40414756e-04, 9.02779668e-04]])"
      ]
     },
     "execution_count": 9,
     "metadata": {},
     "output_type": "execute_result"
    }
   ],
   "source": [
    "Mj2Ms = u.Mjup.to(u.Msun)\n",
    "\n",
    "mvec=[]\n",
    "for i in range(Nplanets):\n",
    "    mu, sigma = mps[i], mps_err[i]\n",
    "    if sigma is np.nan:\n",
    "        v=uniform(loc=0, scale=mu).rvs(size=Nsamples)*Mj2Ms\n",
    "    else:\n",
    "        lower = 1e-6\n",
    "        upper = mu+5*sigma\n",
    "        a = (lower - mu) / sigma\n",
    "        b = (upper - mu) / sigma\n",
    "        v=truncnorm(a=a, b=b, loc=mu, scale=sigma).rvs(size=Nsamples)*Mj2Ms\n",
    "    mvec.append(v)\n",
    "mvec=np.c_[mvec].T\n",
    "mvec"
   ]
  },
  {
   "cell_type": "code",
   "execution_count": 10,
   "id": "d002aa77",
   "metadata": {},
   "outputs": [],
   "source": [
    "assert mvec.all()"
   ]
  },
  {
   "cell_type": "code",
   "execution_count": 11,
   "id": "74e28913",
   "metadata": {},
   "outputs": [
    {
     "data": {
      "image/png": "[encoded data removed]",
      "text/plain": [
       "<Figure size 640x480 with 12 Axes>"
      ]
     },
     "metadata": {},
     "output_type": "display_data"
    }
   ],
   "source": [
    "import pandas as pd\n",
    "import matplotlib.pyplot as pl\n",
    "%matplotlib inline\n",
    "\n",
    "fig,axes = pl.subplots(Nplanets, 3, sharex='col', constrained_layout=True)\n",
    "\n",
    "planets = \"b c d e\".split()\n",
    "\n",
    "fac = u.Msun.to(u.Mjup)\n",
    "for i,(lbl,par) in enumerate(zip([\"mass\",\"period\",\"ecc\"],[mvec*fac,pvec,evec])):\n",
    "    df = pd.DataFrame(par, columns=planets)\n",
    "    for j,p in enumerate(planets):\n",
    "        ax=axes[j,i]\n",
    "        df[p].plot.kde(ax=ax)\n",
    "        if j==0:\n",
    "            ax.set_title(lbl)\n",
    "        if i==0:\n",
    "            ax.set_ylabel(p)       \n",
    "        else:\n",
    "            ax.set_ylabel(\"\")       "
   ]
  },
  {
   "cell_type": "markdown",
   "id": "e3eb2a8b",
   "metadata": {},
   "source": [
    "## Exploring around the solution ball"
   ]
  },
  {
   "cell_type": "code",
   "execution_count": 12,
   "id": "245f6166",
   "metadata": {},
   "outputs": [],
   "source": [
    "#multi threading ex:\n",
    "#https://github.com/dtamayo/spock/blob/master/jupyter_examples/ComparingToNbody.ipynb\n",
    "\n",
    "sims = [setup_sim(mvec[i],pvec[i],evec[i]) for i in range(Nsamples)]"
   ]
  },
  {
   "cell_type": "code",
   "execution_count": 13,
   "id": "7adf4604",
   "metadata": {},
   "outputs": [
    {
     "data": {
      "text/plain": [
       "array([0.        , 0.        , 0.        , 0.        , 0.        ,\n",
       "       0.        , 0.        , 0.        , 0.        , 0.        ,\n",
       "       0.        , 0.        , 0.        , 0.        , 0.        ,\n",
       "       0.        , 0.        , 0.        , 0.        , 0.        ,\n",
       "       0.        , 0.2047812 , 0.00789564, 0.        , 0.        ,\n",
       "       0.        , 0.        , 0.03904944, 0.        , 0.        ,\n",
       "       0.        , 0.        , 0.        , 0.        , 0.04104789,\n",
       "       0.        , 0.        , 0.02295419, 0.        , 0.        ,\n",
       "       0.06064507, 0.        , 0.        , 0.        , 0.        ,\n",
       "       0.        , 0.03125108, 0.04688123, 0.        , 0.        ,\n",
       "       0.        , 0.        , 0.        , 0.00546592, 0.        ,\n",
       "       0.01805021, 0.        , 0.        , 0.01004676, 0.        ,\n",
       "       0.        , 0.        , 0.        , 0.        , 0.        ,\n",
       "       0.        , 0.        , 0.        , 0.        , 0.        ,\n",
       "       0.        , 0.        , 0.        , 0.        , 0.        ,\n",
       "       0.00533155, 0.        , 0.        , 0.        , 0.        ,\n",
       "       0.        , 0.        , 0.00553103, 0.        , 0.        ,\n",
       "       0.        , 0.        , 0.        , 0.        , 0.        ,\n",
       "       0.        , 0.        , 0.        , 0.        , 0.        ,\n",
       "       0.        , 0.        , 0.        , 0.        , 0.        ,\n",
       "       0.        , 0.01032744, 0.        , 0.        , 0.        ,\n",
       "       0.        , 0.        , 0.        , 0.        , 0.        ,\n",
       "       0.        , 0.        , 0.        , 0.        , 0.        ,\n",
       "       0.        , 0.        , 0.        , 0.        , 0.        ,\n",
       "       0.        , 0.        , 0.        , 0.        , 0.        ,\n",
       "       0.        , 0.01057781, 0.03603504, 0.        , 0.        ,\n",
       "       0.        , 0.        , 0.        , 0.        , 0.        ,\n",
       "       0.        , 0.        , 0.        , 0.00572232, 0.        ,\n",
       "       0.        , 0.        , 0.        , 0.        , 0.        ,\n",
       "       0.        , 0.        , 0.        , 0.        , 0.        ,\n",
       "       0.        , 0.        , 0.        , 0.        , 0.        ,\n",
       "       0.        , 0.00913302, 0.        , 0.        , 0.0083811 ,\n",
       "       0.        , 0.        , 0.        , 0.        , 0.        ,\n",
       "       0.        , 0.        , 0.        , 0.        , 0.        ,\n",
       "       0.        , 0.        , 0.        , 0.        , 0.        ,\n",
       "       0.        , 0.        , 0.        , 0.        , 0.        ,\n",
       "       0.        , 0.        , 0.        , 0.        , 0.        ,\n",
       "       0.        , 0.        , 0.        , 0.        , 0.02656836,\n",
       "       0.        , 0.        , 0.        , 0.        , 0.        ,\n",
       "       0.        , 0.        , 0.        , 0.        , 0.        ,\n",
       "       0.        , 0.        , 0.        , 0.        , 0.        ,\n",
       "       0.        , 0.        , 0.        , 0.        , 0.        ,\n",
       "       0.        , 0.        , 0.        , 0.02125544, 0.        ,\n",
       "       0.        , 0.        , 0.        , 0.        , 0.        ,\n",
       "       0.        , 0.        , 0.        , 0.        , 0.        ,\n",
       "       0.00617898, 0.        , 0.        , 0.        , 0.        ,\n",
       "       0.        , 0.        , 0.        , 0.        , 0.        ,\n",
       "       0.        , 0.        , 0.        , 0.        , 0.        ,\n",
       "       0.        , 0.        , 0.        , 0.        , 0.00552724,\n",
       "       0.00561275, 0.00838654, 0.        , 0.        , 0.        ,\n",
       "       0.        , 0.01605782, 0.        , 0.        , 0.        ,\n",
       "       0.        , 0.        , 0.        , 0.        , 0.03839474,\n",
       "       0.        , 0.        , 0.        , 0.        , 0.        ,\n",
       "       0.        , 0.        , 0.        , 0.        , 0.        ,\n",
       "       0.        , 0.        , 0.        , 0.        , 0.        ,\n",
       "       0.        , 0.        , 0.        , 0.        , 0.        ,\n",
       "       0.        , 0.        , 0.00944194, 0.06387278, 0.        ,\n",
       "       0.        , 0.        , 0.        , 0.006507  , 0.        ,\n",
       "       0.        , 0.        , 0.        , 0.        , 0.        ,\n",
       "       0.        , 0.        , 0.        , 0.        , 0.01233914,\n",
       "       0.        , 0.        , 0.01791684, 0.        , 0.        ,\n",
       "       0.        , 0.        , 0.        , 0.        , 0.        ,\n",
       "       0.        , 0.        , 0.        , 0.        , 0.        ,\n",
       "       0.        , 0.        , 0.        , 0.        , 0.        ,\n",
       "       0.        , 0.        , 0.        , 0.        , 0.        ,\n",
       "       0.        , 0.        , 0.        , 0.        , 0.        ,\n",
       "       0.        , 0.        , 0.        , 0.        , 0.        ,\n",
       "       0.02031906, 0.        , 0.        , 0.        , 0.        ,\n",
       "       0.        , 0.00572308, 0.        , 0.        , 0.        ,\n",
       "       0.        , 0.        , 0.        , 0.        , 0.        ,\n",
       "       0.        , 0.        , 0.        , 0.        , 0.        ,\n",
       "       0.        , 0.        , 0.        , 0.        , 0.        ,\n",
       "       0.00504983, 0.        , 0.01119598, 0.        , 0.        ,\n",
       "       0.        , 0.        , 0.        , 0.        , 0.        ,\n",
       "       0.        , 0.        , 0.        , 0.        , 0.        ,\n",
       "       0.        , 0.03092464, 0.        , 0.        , 0.        ,\n",
       "       0.        , 0.        , 0.        , 0.        , 0.        ,\n",
       "       0.        , 0.        , 0.        , 0.        , 0.        ,\n",
       "       0.        , 0.        , 0.        , 0.        , 0.        ,\n",
       "       0.        , 0.        , 0.        , 0.02095915, 0.00953785,\n",
       "       0.03266428, 0.        , 0.        , 0.        , 0.        ,\n",
       "       0.        , 0.        , 0.        , 0.        , 0.        ,\n",
       "       0.        , 0.        , 0.        , 0.        , 0.        ,\n",
       "       0.        , 0.        , 0.        , 0.        , 0.        ,\n",
       "       0.03210995, 0.        , 0.        , 0.        , 0.        ,\n",
       "       0.        , 0.        , 0.        , 0.        , 0.        ,\n",
       "       0.        , 0.        , 0.        , 0.03788156, 0.        ,\n",
       "       0.        , 0.        , 0.00960477, 0.        , 0.        ,\n",
       "       0.        , 0.        , 0.        , 0.        , 0.        ,\n",
       "       0.        , 0.        , 0.        , 0.        , 0.        ,\n",
       "       0.        , 0.        , 0.        , 0.        , 0.        ,\n",
       "       0.        , 0.        , 0.        , 0.        , 0.        ,\n",
       "       0.00632809, 0.01013283, 0.        , 0.        , 0.0080312 ,\n",
       "       0.        , 0.        , 0.01676033, 0.        , 0.        ,\n",
       "       0.        , 0.        , 0.        , 0.        , 0.        ,\n",
       "       0.        , 0.        , 0.        , 0.        , 0.        ,\n",
       "       0.        , 0.        , 0.        , 0.        , 0.        ,\n",
       "       0.        , 0.        , 0.        , 0.03471569, 0.        ,\n",
       "       0.        , 0.        , 0.        , 0.        , 0.        ,\n",
       "       0.        , 0.        , 0.        , 0.        , 0.        ,\n",
       "       0.        , 0.        , 0.        , 0.        , 0.        ,\n",
       "       0.        , 0.        , 0.        , 0.        , 0.        ,\n",
       "       0.        , 0.        , 0.        , 0.        , 0.        ,\n",
       "       0.        , 0.        , 0.        , 0.        , 0.        ,\n",
       "       0.00910472, 0.        , 0.        , 0.        , 0.2604229 ,\n",
       "       0.        , 0.        , 0.18440332, 0.        , 0.        ,\n",
       "       0.        , 0.        , 0.        , 0.        , 0.00659672,\n",
       "       0.        , 0.        , 0.00976296, 0.        , 0.        ,\n",
       "       0.        , 0.00724762, 0.        , 0.        , 0.        ,\n",
       "       0.        , 0.        , 0.02183056, 0.        , 0.        ,\n",
       "       0.        , 0.        , 0.        , 0.02814465, 0.        ,\n",
       "       0.        , 0.        , 0.00987034, 0.        , 0.        ,\n",
       "       0.        , 0.        , 0.        , 0.        , 0.        ,\n",
       "       0.        , 0.0439552 , 0.        , 0.        , 0.        ,\n",
       "       0.04185719, 0.        , 0.        , 0.        , 0.        ,\n",
       "       0.        , 0.        , 0.        , 0.        , 0.        ,\n",
       "       0.        , 0.        , 0.        , 0.        , 0.        ,\n",
       "       0.        , 0.        , 0.        , 0.        , 0.        ,\n",
       "       0.        , 0.        , 0.        , 0.        , 0.        ,\n",
       "       0.00683965, 0.        , 0.        , 0.        , 0.        ,\n",
       "       0.02403813, 0.        , 0.        , 0.        , 0.        ,\n",
       "       0.        , 0.        , 0.0148468 , 0.        , 0.        ,\n",
       "       0.        , 0.        , 0.        , 0.        , 0.        ,\n",
       "       0.        , 0.01044683, 0.        , 0.01078712, 0.        ,\n",
       "       0.        , 0.        , 0.        , 0.        , 0.        ,\n",
       "       0.        , 0.        , 0.        , 0.        , 0.        ,\n",
       "       0.        , 0.        , 0.        , 0.        , 0.        ,\n",
       "       0.00816593, 0.        , 0.        , 0.        , 0.        ,\n",
       "       0.        , 0.        , 0.        , 0.        , 0.        ,\n",
       "       0.        , 0.        , 0.        , 0.        , 0.        ,\n",
       "       0.        , 0.        , 0.        , 0.        , 0.        ,\n",
       "       0.        , 0.        , 0.        , 0.        , 0.        ,\n",
       "       0.        , 0.        , 0.        , 0.        , 0.        ,\n",
       "       0.        , 0.        , 0.        , 0.        , 0.        ,\n",
       "       0.        , 0.        , 0.        , 0.        , 0.        ,\n",
       "       0.        , 0.        , 0.        , 0.        , 0.        ,\n",
       "       0.        , 0.        , 0.        , 0.        , 0.        ,\n",
       "       0.        , 0.        , 0.        , 0.        , 0.01666261,\n",
       "       0.        , 0.        , 0.16216736, 0.        , 0.        ,\n",
       "       0.        , 0.        , 0.        , 0.        , 0.        ,\n",
       "       0.        , 0.        , 0.01633458, 0.        , 0.05140831,\n",
       "       0.00541917, 0.        , 0.01047994, 0.        , 0.        ,\n",
       "       0.        , 0.008561  , 0.        , 0.        , 0.        ,\n",
       "       0.        , 0.        , 0.00588264, 0.        , 0.00860556,\n",
       "       0.        , 0.        , 0.        , 0.        , 0.        ,\n",
       "       0.        , 0.        , 0.        , 0.        , 0.        ,\n",
       "       0.        , 0.0269717 , 0.        , 0.        , 0.        ,\n",
       "       0.        , 0.        , 0.        , 0.        , 0.        ,\n",
       "       0.        , 0.        , 0.        , 0.        , 0.        ,\n",
       "       0.        , 0.        , 0.        , 0.        , 0.00638638,\n",
       "       0.        , 0.00528621, 0.        , 0.        , 0.        ,\n",
       "       0.        , 0.        , 0.17245726, 0.        , 0.        ,\n",
       "       0.        , 0.        , 0.        , 0.02677529, 0.        ,\n",
       "       0.        , 0.        , 0.        , 0.        , 0.        ,\n",
       "       0.        , 0.        , 0.        , 0.        , 0.        ,\n",
       "       0.01677458, 0.        , 0.01527763, 0.        , 0.        ,\n",
       "       0.        , 0.03399717, 0.        , 0.        , 0.        ,\n",
       "       0.        , 0.        , 0.        , 0.        , 0.        ,\n",
       "       0.03148977, 0.        , 0.        , 0.00920272, 0.        ,\n",
       "       0.        , 0.        , 0.        , 0.        , 0.        ,\n",
       "       0.        , 0.        , 0.01742578, 0.        , 0.        ,\n",
       "       0.        , 0.        , 0.        , 0.        , 0.        ,\n",
       "       0.        , 0.        , 0.        , 0.        , 0.        ,\n",
       "       0.        , 0.        , 0.        , 0.00627135, 0.        ,\n",
       "       0.        , 0.        , 0.        , 0.        , 0.        ,\n",
       "       0.        , 0.17238186, 0.        , 0.        , 0.        ,\n",
       "       0.        , 0.        , 0.        , 0.00589183, 0.        ,\n",
       "       0.        , 0.        , 0.        , 0.        , 0.        ,\n",
       "       0.        , 0.02696919, 0.        , 0.        , 0.        ,\n",
       "       0.        , 0.00591922, 0.        , 0.        , 0.        ,\n",
       "       0.        , 0.        , 0.        , 0.        , 0.        ,\n",
       "       0.        , 0.01407698, 0.        , 0.        , 0.04835557,\n",
       "       0.        , 0.        , 0.        , 0.        , 0.        ,\n",
       "       0.        , 0.        , 0.        , 0.        , 0.        ,\n",
       "       0.        , 0.        , 0.        , 0.        , 0.        ,\n",
       "       0.        , 0.        , 0.        , 0.01292527, 0.        ,\n",
       "       0.        , 0.        , 0.        , 0.        , 0.        ,\n",
       "       0.        , 0.        , 0.        , 0.        , 0.02969569,\n",
       "       0.        , 0.        , 0.        , 0.        , 0.        ,\n",
       "       0.        , 0.        , 0.        , 0.        , 0.        ,\n",
       "       0.        , 0.        , 0.        , 0.        , 0.        ,\n",
       "       0.        , 0.        , 0.        , 0.        , 0.        ,\n",
       "       0.        , 0.        , 0.01556631, 0.        , 0.        ,\n",
       "       0.        , 0.        , 0.        , 0.        , 0.        ,\n",
       "       0.        , 0.        , 0.        , 0.        , 0.        ,\n",
       "       0.        , 0.        , 0.        , 0.        , 0.        ,\n",
       "       0.        , 0.        , 0.        , 0.        , 0.02031045,\n",
       "       0.        , 0.        , 0.        , 0.        , 0.        ,\n",
       "       0.        , 0.        , 0.        , 0.        , 0.        ,\n",
       "       0.        , 0.0848863 , 0.        , 0.        , 0.        ,\n",
       "       0.        , 0.        , 0.        , 0.        , 0.        ,\n",
       "       0.        , 0.        , 0.        , 0.        , 0.        ,\n",
       "       0.        , 0.        , 0.        , 0.        , 0.        ,\n",
       "       0.        , 0.        , 0.        , 0.        , 0.        ,\n",
       "       0.00532301, 0.        , 0.        , 0.        , 0.        ,\n",
       "       0.6342653 , 0.        , 0.        , 0.        , 0.        ,\n",
       "       0.        , 0.0063964 , 0.        , 0.        , 0.        ,\n",
       "       0.        , 0.        , 0.        , 0.        , 0.        ,\n",
       "       0.        , 0.        , 0.03290363, 0.        , 0.        ,\n",
       "       0.        , 0.        , 0.        , 0.        , 0.        ],\n",
       "      dtype=float32)"
      ]
     },
     "execution_count": 13,
     "metadata": {},
     "output_type": "execute_result"
    }
   ],
   "source": [
    "results = feature_model.predict_stable(sims, n_jobs=40)\n",
    "results"
   ]
  },
  {
   "cell_type": "markdown",
   "id": "033109ea",
   "metadata": {},
   "source": [
    "### \"stable solutions\""
   ]
  },
  {
   "cell_type": "code",
   "execution_count": 14,
   "id": "1870d581",
   "metadata": {},
   "outputs": [
    {
     "data": {
      "text/plain": [
       "array([0.2047812 , 0.2604229 , 0.18440332, 0.16216736, 0.17245726,\n",
       "       0.17238186, 0.6342653 ], dtype=float32)"
      ]
     },
     "execution_count": 14,
     "metadata": {},
     "output_type": "execute_result"
    }
   ],
   "source": [
    "#non-zero solutions\n",
    "idx = [True if results[i]>0.1 else False for i in range(Nsamples)]\n",
    "results[idx]"
   ]
  },
  {
   "cell_type": "code",
   "execution_count": 15,
   "id": "e622d871",
   "metadata": {},
   "outputs": [
    {
     "data": {
      "text/latex": [
       "$\\displaystyle 7$"
      ],
      "text/plain": [
       "7"
      ]
     },
     "execution_count": 15,
     "metadata": {},
     "output_type": "execute_result"
    }
   ],
   "source": [
    "len(results[idx])"
   ]
  },
  {
   "cell_type": "code",
   "execution_count": 17,
   "id": "02c1b587",
   "metadata": {},
   "outputs": [
    {
     "name": "stdout",
     "output_type": "stream",
     "text": [
      "==Solution 1: (prob=0.20)==\n",
      "m1=0.55, m2=0.11, m3=0.24, m4=0.89\n",
      "p1=24.14, p2=8.25, p3=12.41, p4=40.29\n",
      "e1=0.07, e2=0.24, e3=0.06, e4=0.08\n",
      "\n",
      "==Solution 2: (prob=0.26)==\n",
      "m1=0.47, m2=0.19, m3=0.20, m4=0.76\n",
      "p1=24.14, p2=8.25, p3=12.40, p4=39.87\n",
      "e1=0.23, e2=0.23, e3=0.06, e4=0.23\n",
      "\n",
      "==Solution 3: (prob=0.18)==\n",
      "m1=0.52, m2=0.11, m3=0.30, m4=0.87\n",
      "p1=24.14, p2=8.25, p3=12.41, p4=40.26\n",
      "e1=0.17, e2=0.27, e3=0.04, e4=0.15\n",
      "\n",
      "==Solution 4: (prob=0.16)==\n",
      "m1=0.37, m2=0.03, m3=0.04, m4=1.08\n",
      "p1=24.14, p2=8.25, p3=12.41, p4=41.15\n",
      "e1=0.10, e2=0.11, e3=0.05, e4=0.12\n",
      "\n",
      "==Solution 5: (prob=0.17)==\n",
      "m1=0.45, m2=0.10, m3=0.24, m4=1.37\n",
      "p1=24.14, p2=8.25, p3=12.41, p4=40.08\n",
      "e1=0.18, e2=0.17, e3=0.01, e4=0.14\n",
      "\n",
      "==Solution 6: (prob=0.17)==\n",
      "m1=0.64, m2=0.03, m3=0.06, m4=0.97\n",
      "p1=24.14, p2=8.25, p3=12.41, p4=41.17\n",
      "e1=0.13, e2=0.22, e3=0.03, e4=0.13\n",
      "\n",
      "==Solution 7: (prob=0.63)==\n",
      "m1=0.53, m2=0.00, m3=0.17, m4=1.08\n",
      "p1=24.14, p2=8.25, p3=12.40, p4=41.30\n",
      "e1=0.08, e2=0.25, e3=0.04, e4=0.09\n",
      "\n"
     ]
    }
   ],
   "source": [
    "for i in range(len(results[idx])):\n",
    "    ms=np.c_[mvec,pvec,evec][idx][i,:4]*u.Msun.to(u.Mjup)\n",
    "    ps=np.c_[mvec,pvec,evec][idx][i,4:8]\n",
    "    es=np.c_[mvec,pvec,evec][idx][i,8:12]\n",
    "    print(f\"==Solution {i+1}: (prob={results[idx][i]:.2f})==\")\n",
    "    print(\"m1={:.2f}, m2={:.2f}, m3={:.2f}, m4={:.2f}\".format(*ms))\n",
    "    print(\"p1={:.2f}, p2={:.2f}, p3={:.2f}, p4={:.2f}\".format(*ps))\n",
    "    print(\"e1={:.2f}, e2={:.2f}, e3={:.2f}, e4={:.2f}\\n\".format(*es))"
   ]
  },
  {
   "cell_type": "code",
   "execution_count": null,
   "id": "dd41703c",
   "metadata": {},
   "outputs": [],
   "source": []
  }
 ],
 "metadata": {
  "kernelspec": {
   "display_name": "Python 3 (ipykernel)",
   "language": "python",
   "name": "python3"
  },
  "language_info": {
   "codemirror_mode": {
    "name": "ipython",
    "version": 3
   },
   "file_extension": ".py",
   "mimetype": "text/x-python",
   "name": "python",
   "nbconvert_exporter": "python",
   "pygments_lexer": "ipython3",
   "version": "3.7.12"
  }
 },
 "nbformat": 4,
 "nbformat_minor": 5
}
